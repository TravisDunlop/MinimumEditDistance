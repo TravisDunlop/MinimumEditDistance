{
 "cells": [
  {
   "cell_type": "markdown",
   "metadata": {},
   "source": [
    "### DMO Project "
   ]
  },
  {
   "cell_type": "code",
   "execution_count": 1,
   "metadata": {},
   "outputs": [],
   "source": [
    "import numpy as np\n",
    "import pandas as pd\n",
    "import random\n",
    "import matplotlib.pyplot as plt\n",
    "\n",
    "plt.style.use('seaborn')\n",
    "\n",
    "%matplotlib inline"
   ]
  },
  {
   "cell_type": "markdown",
   "metadata": {},
   "source": [
    "## Tasks 1 & 2"
   ]
  },
  {
   "cell_type": "code",
   "execution_count": 2,
   "metadata": {},
   "outputs": [],
   "source": [
    "def edit_distance(x, y, D=1, I=1, S=1):\n",
    "    n = len(x)\n",
    "    m = len(y)\n",
    "    \n",
    "    rows = list(x) + ['end']\n",
    "    columns = list(y) + ['end']\n",
    "    \n",
    "    matrix = pd.DataFrame(np.zeros((n+1,m+1), \n",
    "                          dtype = np.int),\n",
    "                          columns = columns,\n",
    "                          index = rows) \n",
    "    \n",
    "    min_cost = matrix.copy()\n",
    "    \n",
    "    best = matrix.copy().astype(np.object)\n",
    "    \n",
    "    for i,a in enumerate(rows):\n",
    "        for j,b in enumerate(columns):\n",
    "            if a != b:\n",
    "                matrix.iloc[i,j] = 1\n",
    "    \n",
    "    for i,a in enumerate(rows):\n",
    "        min_cost.iloc[i][m] = (n - i) * D\n",
    "        best.iloc[i][m] = (i+1,m, 'delete ' + a)\n",
    "    \n",
    "    for j,b in enumerate(columns):\n",
    "        min_cost.iloc[n][j] = (m - j) * I\n",
    "        best.iloc[n][j] = (n,j+1, 'insert ' + b)\n",
    "    \n",
    "    def solve(i, j):\n",
    "        a = rows[i]\n",
    "        b = columns[j]\n",
    "        \n",
    "        d_cost = D + min_cost.iloc[i+1,j]\n",
    "        i_cost = I + min_cost.iloc[i,j+1]\n",
    "        s_cost = S * matrix.iloc[i,j] + min_cost.iloc[i+1,j+1]\n",
    "        \n",
    "        c_min = min(d_cost, i_cost, s_cost)\n",
    "        \n",
    "        min_cost.iloc[i,j] = c_min\n",
    "        \n",
    "        if d_cost == c_min:\n",
    "            best.iloc[i,j] = (i+1, j, 'delete ' + a)\n",
    "        elif i_cost == c_min:\n",
    "            best.iloc[i,j] = (i, j+1, 'insert ' + b)\n",
    "        else:\n",
    "            if matrix.iloc[i,j] == 0:\n",
    "                best.iloc[i,j] = (i+1, j+1, 'match ' + b)\n",
    "            else:\n",
    "                best.iloc[i,j] = (i+1, j+1, 'substitute ' + a + ' for ' + b )\n",
    "\n",
    "    for i in range(n-1, -1, -1):\n",
    "        for j in range(m-1, -1, -1):\n",
    "            solve(i,j)\n",
    "            \n",
    "    i, j = (0, 0)\n",
    "    solution = []\n",
    "    \n",
    "    while i < n + 1 and j < m + 1:\n",
    "        step = best.iloc[i,j]\n",
    "        solution.append(step[2])\n",
    "        i = step[0]\n",
    "        j = step[1]\n",
    "    \n",
    "    return(solution, min_cost.iloc[0,0])        "
   ]
  },
  {
   "cell_type": "code",
   "execution_count": 3,
   "metadata": {},
   "outputs": [],
   "source": [
    "def edit_distance_fast(x, y, D=1, I=1, S=1):\n",
    "    n = len(x)\n",
    "    m = len(y)\n",
    "    \n",
    "    rows = list(x) + ['end']\n",
    "    columns = list(y) + ['end']\n",
    "    \n",
    "    matrix = np.zeros((n+1,m+1), dtype = int)\n",
    "    \n",
    "    min_cost = matrix.copy()\n",
    "    \n",
    "    best = matrix.copy().astype(np.object)\n",
    "    \n",
    "    for i,a in enumerate(rows):\n",
    "        for j,b in enumerate(columns):\n",
    "            if a != b:\n",
    "                matrix[i,j] = 1\n",
    "    \n",
    "    for i,a in enumerate(rows):\n",
    "        min_cost[i,m] = (n - i) * D\n",
    "        best[i,m] = (i+1,m, 'delete ' + a)\n",
    "    \n",
    "    for j,b in enumerate(columns):\n",
    "        min_cost[n,j] = (m - j) * I\n",
    "        best[n,j] = (n,j+1, 'insert ' + b)\n",
    "    \n",
    "    def solve(i, j):\n",
    "        a = rows[i]\n",
    "        b = columns[j]\n",
    "        \n",
    "        d_cost = D + min_cost[i+1,j]\n",
    "        i_cost = I + min_cost[i,j+1]\n",
    "        s_cost = S * matrix[i,j] + min_cost[i+1,j+1]\n",
    "        \n",
    "        c_min = min(d_cost, i_cost, s_cost)\n",
    "        \n",
    "        min_cost[i,j] = c_min\n",
    "        \n",
    "        if d_cost == c_min:\n",
    "            best[i,j] = (i+1, j, 'delete ' + a)\n",
    "        elif i_cost == c_min:\n",
    "            best[i,j] = (i, j+1, 'insert ' + b)\n",
    "        else:\n",
    "            if matrix[i,j] == 0:\n",
    "                best[i,j] = (i+1, j+1, 'match ' + b)\n",
    "            else:\n",
    "                best[i,j] = (i+1, j+1, 'substitute ' + a + ' for ' + b )\n",
    "\n",
    "    for i in range(n-1, -1, -1):\n",
    "        for j in range(m-1, -1, -1):\n",
    "            solve(i,j)\n",
    "            \n",
    "    i, j = (0, 0)\n",
    "    solution = []\n",
    "    \n",
    "    while i < n + 1 and j < m + 1:\n",
    "        step = best[i,j]\n",
    "        solution.append(step[2])\n",
    "        i = step[0]\n",
    "        j = step[1]\n",
    "    \n",
    "    return(solution, min_cost[0,0], min_cost, best, matrix)        "
   ]
  },
  {
   "cell_type": "code",
   "execution_count": 4,
   "metadata": {},
   "outputs": [
    {
     "name": "stdout",
     "output_type": "stream",
     "text": [
      "(['delete A', 'delete C', 'match T', 'match A', 'match C', 'match T', 'match A', 'match G', 'substitute A for C', 'match T', 'match T', 'match A', 'match C', 'match T', 'match T', 'match A', 'match C', 'substitute G for C', 'substitute G for C', 'match A', 'match T', 'match C', 'match A', 'match G', 'match G', 'match T', 'delete A', 'delete C', 'match T', 'match T', 'match T', 'match A', 'match G', 'match A', 'delete G', 'match G', 'substitute C for A', 'match T', 'substitute T for G', 'match G', 'match C', 'match A', 'match A', 'match C', 'match C', 'match A', 'insert end'], 10, array([[10, 11, 12, ..., 44, 45, 46],\n",
      "       [ 9, 10, 11, ..., 43, 44, 45],\n",
      "       [ 8,  9, 10, ..., 42, 43, 44],\n",
      "       ..., \n",
      "       [39, 38, 37, ...,  0,  1,  2],\n",
      "       [40, 39, 38, ...,  1,  0,  1],\n",
      "       [41, 40, 39, ...,  2,  1,  0]]), array([[(1, 0, 'delete A'), (1, 1, 'delete A'), (1, 2, 'delete A'), ...,\n",
      "        (1, 39, 'delete A'), (1, 40, 'delete A'), (1, 41, 'delete A')],\n",
      "       [(2, 0, 'delete C'), (2, 1, 'delete C'), (2, 2, 'delete C'), ...,\n",
      "        (2, 39, 'delete C'), (2, 40, 'delete C'), (2, 41, 'delete C')],\n",
      "       [(3, 1, 'match T'), (3, 1, 'delete T'), (3, 2, 'delete T'), ...,\n",
      "        (3, 39, 'delete T'), (3, 40, 'delete T'), (3, 41, 'delete T')],\n",
      "       ..., \n",
      "       [(44, 1, 'insert T'), (44, 2, 'insert A'), (44, 3, 'insert C'), ...,\n",
      "        (45, 40, 'match C'), (45, 40, 'delete C'), (45, 41, 'delete C')],\n",
      "       [(45, 1, 'insert T'), (45, 2, 'insert A'), (45, 3, 'insert C'), ...,\n",
      "        (45, 40, 'insert C'), (46, 41, 'match A'), (46, 41, 'delete A')],\n",
      "       [(46, 1, 'insert T'), (46, 2, 'insert A'), (46, 3, 'insert C'), ...,\n",
      "        (46, 40, 'insert C'), (46, 41, 'insert A'), (46, 42, 'insert end')]], dtype=object), array([[1, 0, 1, ..., 1, 0, 1],\n",
      "       [1, 1, 0, ..., 0, 1, 1],\n",
      "       [0, 1, 1, ..., 1, 1, 1],\n",
      "       ..., \n",
      "       [1, 1, 0, ..., 0, 1, 1],\n",
      "       [1, 0, 1, ..., 1, 0, 1],\n",
      "       [1, 1, 1, ..., 1, 1, 0]])) \n",
      "\n",
      "\n",
      "(['delete A', 'delete C', 'match T', 'match A', 'match C', 'match T', 'match A', 'match G', 'substitute A for C', 'match T', 'match T', 'match A', 'match C', 'match T', 'match T', 'match A', 'match C', 'substitute G for C', 'substitute G for C', 'match A', 'match T', 'match C', 'match A', 'match G', 'match G', 'match T', 'delete A', 'delete C', 'match T', 'match T', 'match T', 'match A', 'match G', 'match A', 'delete G', 'match G', 'substitute C for A', 'match T', 'substitute T for G', 'match G', 'match C', 'match A', 'match A', 'match C', 'match C', 'match A', 'insert end'], 15, array([[15, 17, 19, ..., 88, 90, 92],\n",
      "       [13, 15, 17, ..., 86, 88, 90],\n",
      "       [11, 13, 15, ..., 84, 86, 88],\n",
      "       ..., \n",
      "       [78, 76, 74, ...,  0,  2,  4],\n",
      "       [80, 78, 76, ...,  2,  0,  2],\n",
      "       [82, 80, 78, ...,  4,  2,  0]]), array([[(1, 0, 'delete A'), (1, 1, 'delete A'), (1, 2, 'delete A'), ...,\n",
      "        (1, 39, 'delete A'), (1, 40, 'delete A'), (1, 41, 'delete A')],\n",
      "       [(2, 0, 'delete C'), (2, 1, 'delete C'), (2, 2, 'delete C'), ...,\n",
      "        (2, 39, 'delete C'), (2, 40, 'delete C'), (2, 41, 'delete C')],\n",
      "       [(3, 1, 'match T'), (3, 1, 'delete T'), (3, 2, 'delete T'), ...,\n",
      "        (3, 39, 'delete T'), (3, 40, 'delete T'), (3, 41, 'delete T')],\n",
      "       ..., \n",
      "       [(44, 1, 'insert T'), (44, 2, 'insert A'), (44, 3, 'insert C'), ...,\n",
      "        (45, 40, 'match C'), (45, 40, 'delete C'), (45, 41, 'delete C')],\n",
      "       [(45, 1, 'insert T'), (45, 2, 'insert A'), (45, 3, 'insert C'), ...,\n",
      "        (45, 40, 'insert C'), (46, 41, 'match A'), (46, 41, 'delete A')],\n",
      "       [(46, 1, 'insert T'), (46, 2, 'insert A'), (46, 3, 'insert C'), ...,\n",
      "        (46, 40, 'insert C'), (46, 41, 'insert A'), (46, 42, 'insert end')]], dtype=object), array([[1, 0, 1, ..., 1, 0, 1],\n",
      "       [1, 1, 0, ..., 0, 1, 1],\n",
      "       [0, 1, 1, ..., 1, 1, 1],\n",
      "       ..., \n",
      "       [1, 1, 0, ..., 0, 1, 1],\n",
      "       [1, 0, 1, ..., 1, 0, 1],\n",
      "       [1, 1, 1, ..., 1, 1, 0]]))\n"
     ]
    }
   ],
   "source": [
    "x = 'ACTACTAGATTACTTACGGATCAGGTACTTTAGAGGCTTGCAACCA'\n",
    "y = 'TACTAGCTTACTTACCCATCAGGTTTTAGAGATGGCAACCA'\n",
    "\n",
    "print(edit_distance_fast(x,y), '\\n\\n')\n",
    "\n",
    "print(edit_distance_fast(x,y, 2, 2, 1))"
   ]
  },
  {
   "cell_type": "markdown",
   "metadata": {},
   "source": [
    "## Task 3"
   ]
  },
  {
   "cell_type": "code",
   "execution_count": 35,
   "metadata": {},
   "outputs": [
    {
     "name": "stdout",
     "output_type": "stream",
     "text": [
      "Minimum Edit Distance:  10\n",
      "Path:  delete A, delete C, match T, match A, match C, match T, match A, match G, substitute A for C, match T, match T, match A, match C, match T, match T, match A, match C, substitute G for C, substitute G for C, match A, match T, match C, match A, match G, match G, match T, delete A, delete C, match T, match T, match T, match A, match G, match A, delete G, match G, substitute C for A, match T, substitute T for G, match G, match C, match A, match A, match C, match C, match A, insert end\n",
      "Minimum Edit Distance:  15\n",
      "Path:  delete A, delete C, match T, match A, match C, match T, match A, match G, substitute A for C, match T, match T, match A, match C, match T, match T, match A, match C, substitute G for C, substitute G for C, match A, match T, match C, match A, match G, match G, match T, delete A, delete C, match T, match T, match T, match A, match G, match A, delete G, match G, substitute C for A, match T, substitute T for G, match G, match C, match A, match A, match C, match C, match A, insert end\n"
     ]
    }
   ],
   "source": [
    "x = 'ACTACTAGATTACTTACGGATCAGGTACTTTAGAGGCTTGCAACCA'\n",
    "y = 'TACTAGCTTACTTACCCATCAGGTTTTAGAGATGGCAACCA'\n",
    "\n",
    "solution, total_min_cost, min_cost, best, matrix = edit_distance_fast(x, y)\n",
    "\n",
    "print('Minimum Edit Distance: ', total_min_cost)\n",
    "print('Path: ', ', '.join(solution))\n",
    "\n",
    "solution, total_min_cost, min_cost, best, matrix = edit_distance_fast(x, y, 2, 2, 1)\n",
    "\n",
    "print('Minimum Edit Distance: ', total_min_cost)\n",
    "print('Path: ', ', '.join(solution))\n"
   ]
  },
  {
   "cell_type": "code",
   "execution_count": 36,
   "metadata": {},
   "outputs": [
    {
     "name": "stdout",
     "output_type": "stream",
     "text": [
      "Minimum Edit Distance:  37\n",
      "Path:  delete A, delete A, delete S, delete R, delete P, delete R, match S, match G, substitute V for A, match P, substitute A for G, match Q, delete S, substitute D for R, substitute S for G, substitute D for E, match P, insert G, substitute C for P, match Q, substitute N for G, substitute L for H, match A, insert G, match A, delete T, match P, substitute I for G, match P, substitute S for P, substitute R for G, match P, match P, delete S, delete S, substitute Q for G, match S, delete C, delete Q, delete K, delete C, delete R, delete A, match D, delete A, delete R, delete Q, delete G, delete R, delete W, match G, delete P, insert end\n",
      "Minimum Edit Distance:  58\n",
      "Path:  delete A, delete A, delete S, delete R, delete P, delete R, match S, match G, substitute V for A, match P, substitute A for G, match Q, substitute S for R, substitute D for G, substitute S for E, substitute D for P, substitute P for G, substitute C for P, match Q, substitute N for G, substitute L for H, match A, substitute A for G, substitute T for A, match P, substitute I for G, match P, substitute S for P, substitute R for G, match P, match P, delete S, delete S, substitute Q for G, match S, delete C, delete Q, delete K, delete C, delete R, delete A, match D, delete A, delete R, delete Q, delete G, delete R, delete W, match G, delete P, insert end\n"
     ]
    }
   ],
   "source": [
    "x = 'AASRPRSGVPAQSDSDPCQNLAATPIPSRPPSSQSCQKCRADARQGRWGP'\n",
    "y = 'SGAPGQRGEPGPQGHAGAPGPPGPPGSDG'\n",
    "\n",
    "solution, total_min_cost, min_cost, best, matrix = edit_distance_fast(x, y)\n",
    "\n",
    "print('Minimum Edit Distance: ', total_min_cost)\n",
    "print('Path: ', ', '.join(solution))\n",
    "\n",
    "solution, total_min_cost, min_cost, best, matrix = edit_distance_fast(x, y, 2, 2, 1)\n",
    "\n",
    "print('Minimum Edit Distance: ', total_min_cost)\n",
    "print('Path: ', ', '.join(solution))\n"
   ]
  },
  {
   "cell_type": "markdown",
   "metadata": {
    "collapsed": true
   },
   "source": [
    "## Task 4"
   ]
  },
  {
   "cell_type": "code",
   "execution_count": 6,
   "metadata": {},
   "outputs": [],
   "source": [
    "letters = ['A', 'B', 'C', 'D']\n",
    "weights = [0.25, 0.25, 0.25, 0.25]\n",
    "\n",
    "def define_pairs(N):\n",
    "    words = [''.join(random.choices(letters, weights = weights, k = 50)) for _ in range(N*2)]\n",
    "    pairs = [words[i:i+2] for i in range(0, N*2, 2)]\n",
    "    return pairs\n",
    "\n",
    "pairs_100 = define_pairs(100)\n",
    "pairs_500 = define_pairs(500)\n",
    "pairs_1000 = define_pairs(1000)"
   ]
  },
  {
   "cell_type": "code",
   "execution_count": 28,
   "metadata": {},
   "outputs": [
    {
     "name": "stdout",
     "output_type": "stream",
     "text": [
      "CPU times: user 6min 32s, sys: 3.69 s, total: 6min 35s\n",
      "Wall time: 6min 35s\n"
     ]
    }
   ],
   "source": [
    "%time dist_100 = [edit_distance(pair[0], pair[1])[1] for pair in define_pairs(100)]"
   ]
  },
  {
   "cell_type": "code",
   "execution_count": 23,
   "metadata": {},
   "outputs": [],
   "source": [
    "dist = {}"
   ]
  },
  {
   "cell_type": "code",
   "execution_count": 24,
   "metadata": {},
   "outputs": [
    {
     "name": "stdout",
     "output_type": "stream",
     "text": [
      "CPU times: user 1.13 s, sys: 5.19 ms, total: 1.14 s\n",
      "Wall time: 1.14 s\n"
     ]
    }
   ],
   "source": [
    "%time dist[100] = [edit_distance_fast(pair[0], pair[1])[1] for pair in define_pairs(100)]"
   ]
  },
  {
   "cell_type": "code",
   "execution_count": 25,
   "metadata": {},
   "outputs": [
    {
     "name": "stdout",
     "output_type": "stream",
     "text": [
      "CPU times: user 5.45 s, sys: 14.2 ms, total: 5.46 s\n",
      "Wall time: 5.47 s\n"
     ]
    }
   ],
   "source": [
    "%time dist[500] = [edit_distance_fast(pair[0], pair[1])[1] for pair in define_pairs(500)]"
   ]
  },
  {
   "cell_type": "code",
   "execution_count": 26,
   "metadata": {},
   "outputs": [
    {
     "name": "stdout",
     "output_type": "stream",
     "text": [
      "CPU times: user 11.8 s, sys: 92.4 ms, total: 11.9 s\n",
      "Wall time: 12 s\n"
     ]
    }
   ],
   "source": [
    "%time dist[1000] = [edit_distance_fast(pair[0], pair[1])[1] for pair in define_pairs(1000)]"
   ]
  },
  {
   "cell_type": "code",
   "execution_count": 31,
   "metadata": {},
   "outputs": [
    {
     "name": "stdout",
     "output_type": "stream",
     "text": [
      "100\n",
      "Sample Mean: 28.68\n",
      "Sample Variance: 4.18\n",
      "500\n",
      "Sample Mean: 28.87\n",
      "Sample Variance: 4.25\n",
      "1000\n",
      "Sample Mean: 28.80\n",
      "Sample Variance: 4.68\n"
     ]
    }
   ],
   "source": [
    "bins = range(22, 36)\n",
    "\n",
    "def plot_hist(N):\n",
    "    plt.hist(dist[N], bins = bins, density = True);\n",
    "    plt.title('N = ' + str(N))\n",
    "    print(str(N))\n",
    "    print('Sample Mean: {:0.2f}'.format(np.mean(dist[N])))\n",
    "    print('Sample Variance: {:0.2f}'.format(np.var(dist[N])))\n",
    "\n",
    "    plt.savefig('Edit_Distance_Histogram_' + str(N) + '.jpg')\n",
    "    plt.close()\n",
    "\n",
    "for n in [100, 500, 1000]: plot_hist(n)"
   ]
  },
  {
   "cell_type": "code",
   "execution_count": 15,
   "metadata": {},
   "outputs": [
    {
     "name": "stdout",
     "output_type": "stream",
     "text": [
      "Sample Mean: 28.78\n",
      "Sample Variance: 4.62\n"
     ]
    },
    {
     "data": {
      "image/png": "[encoded data removed]",
      "text/plain": [
       "<matplotlib.figure.Figure at 0x107061f28>"
      ]
     },
     "metadata": {},
     "output_type": "display_data"
    }
   ],
   "source": [
    "plt.hist(dist_500, bins = bins);\n",
    "\n",
    "print('Sample Mean: {:0.2f}'.format(np.mean(dist_500)))\n",
    "print('Sample Variance: {:0.2f}'.format(np.var(dist_500)))\n",
    "\n",
    "plt.savefig('Edit Distance Histogram - 500.pg')"
   ]
  },
  {
   "cell_type": "code",
   "execution_count": 16,
   "metadata": {},
   "outputs": [
    {
     "name": "stdout",
     "output_type": "stream",
     "text": [
      "Sample Mean: 28.82\n",
      "Sample Variance: 4.82\n"
     ]
    },
    {
     "data": {
      "image/png": "[encoded data removed]",
      "text/plain": [
       "<matplotlib.figure.Figure at 0x10c2c5470>"
      ]
     },
     "metadata": {},
     "output_type": "display_data"
    }
   ],
   "source": [
    "plt.hist(dist_1000, bins = bins);\n",
    "\n",
    "print('Sample Mean: {:0.2f}'.format(np.mean(dist_1000)))\n",
    "print('Sample Variance: {:0.2f}'.format(np.var(dist_1000)))\n",
    "\n",
    "plt.savefig('Edit Distance Histogram - 1000.png')"
   ]
  },
  {
   "cell_type": "code",
   "execution_count": 7,
   "metadata": {},
   "outputs": [
    {
     "data": {
      "text/plain": [
       "(['insert end'],\n",
       " 0,\n",
       " array([[0]]),\n",
       " array([[(0, 1, 'insert end')]], dtype=object),\n",
       " array([[0]]))"
      ]
     },
     "execution_count": 7,
     "metadata": {},
     "output_type": "execute_result"
    }
   ],
   "source": [
    "edit_distance_fast('', '')"
   ]
  },
  {
   "cell_type": "code",
   "execution_count": 11,
   "metadata": {},
   "outputs": [
    {
     "name": "stdout",
     "output_type": "stream",
     "text": [
      "[[(1, 0, 'delete A') (1, 2, 'match A') (1, 2, 'delete A')]\n",
      " [(2, 1, 'match B') (2, 2, 'substitute B for A') (2, 2, 'delete B')]\n",
      " [(2, 1, 'insert B') (2, 2, 'insert A') (2, 3, 'insert end')]]\n"
     ]
    }
   ],
   "source": [
    "solution, total_min_cost, min_cost, best, matrix = edit_distance_fast('AB', 'BA')\n",
    "\n",
    "print(best)"
   ]
  },
  {
   "cell_type": "code",
   "execution_count": 43,
   "metadata": {},
   "outputs": [
    {
     "name": "stdout",
     "output_type": "stream",
     "text": [
      "['match A', 'delete B', 'match B', 'match C', 'match A', 'delete C', 'insert end']\n"
     ]
    }
   ],
   "source": [
    "solution, total_min_cost, min_cost, best, matrix = edit_distance_fast('ABBCAC', 'ABCA')\n",
    "\n",
    "print(solution)"
   ]
  },
  {
   "cell_type": "code",
   "execution_count": null,
   "metadata": {},
   "outputs": [],
   "source": []
  }
 ],
 "metadata": {
  "kernelspec": {
   "display_name": "Python 3",
   "language": "python",
   "name": "python3"
  },
  "language_info": {
   "codemirror_mode": {
    "name": "ipython",
    "version": 3
   },
   "file_extension": ".py",
   "mimetype": "text/x-python",
   "name": "python",
   "nbconvert_exporter": "python",
   "pygments_lexer": "ipython3",
   "version": "3.6.2"
  }
 },
 "nbformat": 4,
 "nbformat_minor": 2
}
